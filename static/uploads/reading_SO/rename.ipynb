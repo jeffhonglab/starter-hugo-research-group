{
 "cells": [
  {
   "cell_type": "code",
   "execution_count": 1,
   "metadata": {},
   "outputs": [],
   "source": [
    "import os\n",
    "import numpy as np"
   ]
  },
  {
   "cell_type": "code",
   "execution_count": 2,
   "metadata": {},
   "outputs": [],
   "source": [
    "list_path = os.listdir()"
   ]
  },
  {
   "cell_type": "code",
   "execution_count": 3,
   "metadata": {},
   "outputs": [
    {
     "data": {
      "text/plain": [
       "['1108Nelder-Mead.pdf',\n",
       " '1011AC-SA.pdf',\n",
       " '1129BEESE.pdf',\n",
       " '1206SOAS.pdf',\n",
       " '.DS_Store',\n",
       " '1213STRONG.pdf',\n",
       " '1025Technical note.pdf',\n",
       " '10112SPSA.pdf',\n",
       " '1122AHA.pdf',\n",
       " '1220SPAS.pdf',\n",
       " '0105GaussMarkovOptSimSlides.pdf',\n",
       " '1115SCA.pdf',\n",
       " '1115SimulatedAnnealing.pdf',\n",
       " '1213VNSPO.pdf',\n",
       " '1122COMPASS.pdf',\n",
       " 'rename.ipynb',\n",
       " '1108SDO.pdf',\n",
       " '1220MRAS.pdf',\n",
       " '1227BO.pdf',\n",
       " '0105GlobalSOwithLowDispersionPointSets.pdf',\n",
       " '0927RobbinsMonro.pdf',\n",
       " '0927Wolfowitz.pdf',\n",
       " '.ipynb_checkpoints',\n",
       " '1129GPS.pdf',\n",
       " '1025MirrorDescent.pdf',\n",
       " 'paperlist.pdf']"
      ]
     },
     "execution_count": 3,
     "metadata": {},
     "output_type": "execute_result"
    }
   ],
   "source": [
    "list_path"
   ]
  },
  {
   "cell_type": "code",
   "execution_count": 5,
   "metadata": {},
   "outputs": [
    {
     "data": {
      "text/plain": [
       "'1108'"
      ]
     },
     "execution_count": 5,
     "metadata": {},
     "output_type": "execute_result"
    }
   ],
   "source": [
    "list_path[0][:4]"
   ]
  },
  {
   "cell_type": "code",
   "execution_count": 6,
   "metadata": {},
   "outputs": [
    {
     "name": "stdout",
     "output_type": "stream",
     "text": [
      "{{% staticref \"uploads/reading_SO/1108Nelder-Mead.pdf\" %}}1108Nelder-Mead{{% /staticref %}}\n",
      "{{% staticref \"uploads/reading_SO/1011AC-SA.pdf\" %}}1011AC-SA{{% /staticref %}}\n",
      "{{% staticref \"uploads/reading_SO/1129BEESE.pdf\" %}}1129BEESE{{% /staticref %}}\n",
      "{{% staticref \"uploads/reading_SO/1206SOAS.pdf\" %}}1206SOAS{{% /staticref %}}\n",
      "{{% staticref \"uploads/reading_SO/1213STRONG.pdf\" %}}1213STRONG{{% /staticref %}}\n",
      "{{% staticref \"uploads/reading_SO/1025Technical note.pdf\" %}}1025Technical note{{% /staticref %}}\n",
      "{{% staticref \"uploads/reading_SO/10112SPSA.pdf\" %}}10112SPSA{{% /staticref %}}\n",
      "{{% staticref \"uploads/reading_SO/1122AHA.pdf\" %}}1122AHA{{% /staticref %}}\n",
      "{{% staticref \"uploads/reading_SO/1220SPAS.pdf\" %}}1220SPAS{{% /staticref %}}\n",
      "{{% staticref \"uploads/reading_SO/0105GaussMarkovOptSimSlides.pdf\" %}}0105GaussMarkovOptSimSlides{{% /staticref %}}\n",
      "{{% staticref \"uploads/reading_SO/1115SCA.pdf\" %}}1115SCA{{% /staticref %}}\n",
      "{{% staticref \"uploads/reading_SO/1115SimulatedAnnealing.pdf\" %}}1115SimulatedAnnealing{{% /staticref %}}\n",
      "{{% staticref \"uploads/reading_SO/1213VNSPO.pdf\" %}}1213VNSPO{{% /staticref %}}\n",
      "{{% staticref \"uploads/reading_SO/1122COMPASS.pdf\" %}}1122COMPASS{{% /staticref %}}\n",
      "{{% staticref \"uploads/reading_SO/1108SDO.pdf\" %}}1108SDO{{% /staticref %}}\n",
      "{{% staticref \"uploads/reading_SO/1220MRAS.pdf\" %}}1220MRAS{{% /staticref %}}\n",
      "{{% staticref \"uploads/reading_SO/1227BO.pdf\" %}}1227BO{{% /staticref %}}\n",
      "{{% staticref \"uploads/reading_SO/0105GlobalSOwithLowDispersionPointSets.pdf\" %}}0105GlobalSOwithLowDispersionPointSets{{% /staticref %}}\n",
      "{{% staticref \"uploads/reading_SO/0927RobbinsMonro.pdf\" %}}0927RobbinsMonro{{% /staticref %}}\n",
      "{{% staticref \"uploads/reading_SO/0927Wolfowitz.pdf\" %}}0927Wolfowitz{{% /staticref %}}\n",
      "{{% staticref \"uploads/reading_SO/1129GPS.pdf\" %}}1129GPS{{% /staticref %}}\n",
      "{{% staticref \"uploads/reading_SO/1025MirrorDescent.pdf\" %}}1025MirrorDescent{{% /staticref %}}\n",
      "{{% staticref \"uploads/reading_SO/paperlist.pdf\" %}}paperlist{{% /staticref %}}\n"
     ]
    }
   ],
   "source": [
    "for file in list_path:\n",
    "    if \".pdf\" in file:\n",
    "        name = file.split(\".\")[0]\n",
    "        print(\"\"\"{{% staticref \"uploads/reading_SO/\"\"\" + name + \"\"\".pdf\" %}}\"\"\" + name + \"\"\"{{% /staticref %}}\"\"\")\n",
    "\n",
    "# 已经成功修改了名字"
   ]
  },
  {
   "cell_type": "code",
   "execution_count": null,
   "metadata": {},
   "outputs": [],
   "source": []
  }
 ],
 "metadata": {
  "kernelspec": {
   "display_name": "Python 3",
   "language": "python",
   "name": "python3"
  },
  "language_info": {
   "codemirror_mode": {
    "name": "ipython",
    "version": 3
   },
   "file_extension": ".py",
   "mimetype": "text/x-python",
   "name": "python",
   "nbconvert_exporter": "python",
   "pygments_lexer": "ipython3",
   "version": "3.8.5"
  }
 },
 "nbformat": 4,
 "nbformat_minor": 4
}
