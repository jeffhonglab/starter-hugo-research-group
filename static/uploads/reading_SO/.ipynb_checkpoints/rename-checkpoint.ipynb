{
 "cells": [
  {
   "cell_type": "code",
   "execution_count": 1,
   "metadata": {},
   "outputs": [],
   "source": [
    "import os\n",
    "import numpy as np"
   ]
  },
  {
   "cell_type": "code",
   "execution_count": 2,
   "metadata": {},
   "outputs": [],
   "source": [
    "list_path = os.listdir()"
   ]
  },
  {
   "cell_type": "code",
   "execution_count": 3,
   "metadata": {},
   "outputs": [
    {
     "data": {
      "text/plain": [
       "['1108Nelder-Mead.pdf',\n",
       " '1011AC-SA.pdf',\n",
       " '1129BEESE.pdf',\n",
       " '1206SOAS.pdf',\n",
       " '.DS_Store',\n",
       " '1213STRONG.pdf',\n",
       " '1025Technical note.pdf',\n",
       " '10112SPSA.pdf',\n",
       " '1122AHA.pdf',\n",
       " '1220SPAS.pdf',\n",
       " '0105GaussMarkovOptSimSlides.pdf',\n",
       " '1115SCA.pdf',\n",
       " '1115SimulatedAnnealing.pdf',\n",
       " '1213VNSPO.pdf',\n",
       " '1122COMPASS.pdf',\n",
       " 'rename.ipynb',\n",
       " '1108SDO.pdf',\n",
       " '1220MRAS.pdf',\n",
       " '1227BO.pdf',\n",
       " '0105GlobalSOwithLowDispersionPointSets.pdf',\n",
       " '0927RobbinsMonro.pdf',\n",
       " '0927Wolfowitz.pdf',\n",
       " '.ipynb_checkpoints',\n",
       " '1129GPS.pdf',\n",
       " '1025MirrorDescent.pdf',\n",
       " 'paperlist.pdf']"
      ]
     },
     "execution_count": 3,
     "metadata": {},
     "output_type": "execute_result"
    }
   ],
   "source": [
    "list_path"
   ]
  },
  {
   "cell_type": "code",
   "execution_count": null,
   "metadata": {},
   "outputs": [],
   "source": [
    "for file in list_path:\n",
    "    if \".pdf\" in file:\n",
    "        name = file.split(\".\")[0][:-4]\n",
    "        year = file.split(\".\")[0][-4:]\n",
    "        new_name = year+\"_\"+name+\".pdf\"\n",
    "        print(new_name)\n",
    "        os.rename(file, new_name)\n",
    "        \n",
    "# 已经成功修改了名字"
   ]
  }
 ],
 "metadata": {
  "kernelspec": {
   "display_name": "Python 3",
   "language": "python",
   "name": "python3"
  },
  "language_info": {
   "codemirror_mode": {
    "name": "ipython",
    "version": 3
   },
   "file_extension": ".py",
   "mimetype": "text/x-python",
   "name": "python",
   "nbconvert_exporter": "python",
   "pygments_lexer": "ipython3",
   "version": "3.8.5"
  }
 },
 "nbformat": 4,
 "nbformat_minor": 4
}
